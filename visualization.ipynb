{
 "cells": [
  {
   "cell_type": "code",
   "execution_count": 18,
   "metadata": {},
   "outputs": [
    {
     "name": "stdout",
     "output_type": "stream",
     "text": [
      "Theoretical Peak Performance: 96.0 GFlop/s\n"
     ]
    },
    {
     "data": {
      "image/png": "[encoded data removed]",
      "text/plain": [
       "<Figure size 432x288 with 1 Axes>"
      ]
     },
     "metadata": {
      "needs_background": "light"
     },
     "output_type": "display_data"
    }
   ],
   "source": [
    "import numpy as np\n",
    "import matplotlib.pyplot as plt\n",
    "\n",
    "nArray = np.concatenate((np.array([10, 25, 50, 75]), np.arange(100, 951, 50), np.arange(1000, 2001, 100)))\n",
    "\n",
    "# meanRunTimeArray = np.array([\n",
    "#     4.00543e-06,\n",
    "#     6.31809e-05,\n",
    "#     0.000518608,\n",
    "#     0.00161829,\n",
    "#     0.00387816,\n",
    "#     0.0138209,\n",
    "#     0.0344958,\n",
    "#     0.0606368,\n",
    "#     0.109169,\n",
    "#     0.214834,\n",
    "#     0.298854,\n",
    "#     0.460332,\n",
    "#     0.643903,\n",
    "#     0.836358,\n",
    "#     1.18361,\n",
    "#     1.54503,\n",
    "#     1.70762,\n",
    "#     2.38345,\n",
    "#     2.88438,\n",
    "#     3.53915,\n",
    "#     3.93906,\n",
    "#     4.76476,\n",
    "#     5.84954,\n",
    "#     7.37092,\n",
    "#     10.1251,\n",
    "#     11.8561,\n",
    "#     17.1451,\n",
    "#     19.9282,\n",
    "#     34.153,\n",
    "#     35.8577,\n",
    "#     42.6954,\n",
    "#     43.4378,\n",
    "#     56.7444\n",
    "# ])\n",
    "\n",
    "file_path = r'C:\\Users\\chris\\Downloads\\School\\MSU\\CMSE 822 Parallel Computing\\project-1-team-4\\MeanRunTimes.txt'\n",
    "\n",
    "# Reading the data from the file\n",
    "with open(file_path, 'r') as file:\n",
    "    meanRunTimeArray = [float(line.strip()) for line in file]  # Read each line as a float\n",
    "\n",
    "# Initialize an array to store the number of floating point operations.\n",
    "flop_array = (nArray**2) * (2*nArray - 1)\n",
    "\n",
    "# Calculate the performance in (Gflop/s)\n",
    "performance = (flop_array / 1e9) / meanRunTimeArray\n",
    "\n",
    "ncores = 20  # number of cores\n",
    "clkspeed = 2.4  # 2.4 GHz\n",
    "fpus = 2  # FPUs/core\n",
    "\n",
    "peakp = ncores * clkspeed * fpus\n",
    "\n",
    "print(\"Theoretical Peak Performance:\", peakp, \"GFlop/s\")\n",
    "\n",
    "plt.figure()\n",
    "plt.plot(nArray, performance, '--d')\n",
    "plt.xlabel('Array Size (N)')\n",
    "plt.ylabel('GFlop/s')\n",
    "# plt.axhline(y=peakp, linestyle='--', color='red', label='Peak Performance')\n",
    "plt.savefig('HPCCEmpiricalResults.png')\n",
    "# plt.show()"
   ]
  }
 ],
 "metadata": {
  "kernelspec": {
   "display_name": "base",
   "language": "python",
   "name": "python3"
  },
  "language_info": {
   "codemirror_mode": {
    "name": "ipython",
    "version": 3
   },
   "file_extension": ".py",
   "mimetype": "text/x-python",
   "name": "python",
   "nbconvert_exporter": "python",
   "pygments_lexer": "ipython3",
   "version": "3.9.12"
  }
 },
 "nbformat": 4,
 "nbformat_minor": 2
}
