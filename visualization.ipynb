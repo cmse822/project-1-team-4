{
 "cells": [
  {
   "cell_type": "code",
   "execution_count": null,
   "metadata": {},
   "outputs": [],
   "source": [
    "import numpy as np\n",
    "import matplotlib.pyplot as plt\n",
    "\n",
    "nArray = np.concatenate((np.array([10, 25, 50, 75]), np.arange(100, 951, 50), np.arange(1000, 1901, 100), np.arange(2000, 5001, 250)))\n",
    "\n",
    "# Placeholder for the path to your text file\n",
    "file_path = 'path_to_your_file.txt'\n",
    "with open(file_path, 'r') as file:\n",
    "    meanRunTimeArray = [float(line.strip()) for line in file if line.strip()]  # Read each line as a float\n",
    "\n",
    "# Initialize an array to store the number of floating point operations.\n",
    "flop_array = (nArray**2) * (2*nArray - 1)\n",
    "\n",
    "# Calculate the performance in (Gflop/s)\n",
    "performance = (flop_array / 1e9) / np.array(meanRunTimeArray)\n",
    "\n",
    "ncores = 20  # number of cores\n",
    "clkspeed = 2.4  # 3.4 GHz\n",
    "fpus = 2  # FPUs/core\n",
    "\n",
    "peakp = ncores * clkspeed * fpus\n",
    "\n",
    "print(\"Theoretical Peak Performance:\", peakp, \"GFlop/s\")\n",
    "\n",
    "plt.figure()\n",
    "plt.plot(nArray, performance, '--d')\n",
    "plt.xlabel('Array Size (N)')\n",
    "plt.ylabel('GFlop/s')\n",
    "# plt.axhline(y=peakp, linestyle='--', color='red', label='Peak Performance')\n",
    "plt.savefig('HPCCEmpiricalResults.png')\n",
    "# plt.show()"
   ]
  }
 ],
 "metadata": {
  "language_info": {
   "name": "python"
  }
 },
 "nbformat": 4,
 "nbformat_minor": 2
}
